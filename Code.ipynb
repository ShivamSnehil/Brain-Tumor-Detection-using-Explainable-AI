{
  "nbformat": 4,
  "nbformat_minor": 0,
  "metadata": {
    "colab": {
      "provenance": [],
      "gpuType": "T4"
    },
    "kernelspec": {
      "name": "python3",
      "display_name": "Python 3"
    },
    "language_info": {
      "name": "python"
    },
    "accelerator": "GPU"
  },
  "cells": [
    {
      "cell_type": "code",
      "execution_count": 1,
      "metadata": {
        "colab": {
          "base_uri": "https://localhost:8080/"
        },
        "id": "hvIU_3F6nLcd",
        "outputId": "983fc5c3-a34e-4e5b-bda1-2f91472fe422"
      },
      "outputs": [
        {
          "output_type": "stream",
          "name": "stdout",
          "text": [
            "Mounted at /content/drive\n",
            "\u001b[2K     \u001b[90m━━━━━━━━━━━━━━━━━━━━━━━━━━━━━━━━━━━━━━━━\u001b[0m \u001b[32m7.8/7.8 MB\u001b[0m \u001b[31m79.4 MB/s\u001b[0m eta \u001b[36m0:00:00\u001b[0m\n",
            "\u001b[?25h  Installing build dependencies ... \u001b[?25l\u001b[?25hdone\n",
            "  Getting requirements to build wheel ... \u001b[?25l\u001b[?25hdone\n",
            "  Preparing metadata (pyproject.toml) ... \u001b[?25l\u001b[?25hdone\n",
            "\u001b[2K   \u001b[90m━━━━━━━━━━━━━━━━━━━━━━━━━━━━━━━━━━━━━━━━\u001b[0m \u001b[32m363.4/363.4 MB\u001b[0m \u001b[31m4.4 MB/s\u001b[0m eta \u001b[36m0:00:00\u001b[0m\n",
            "\u001b[2K   \u001b[90m━━━━━━━━━━━━━━━━━━━━━━━━━━━━━━━━━━━━━━━━\u001b[0m \u001b[32m13.8/13.8 MB\u001b[0m \u001b[31m124.2 MB/s\u001b[0m eta \u001b[36m0:00:00\u001b[0m\n",
            "\u001b[2K   \u001b[90m━━━━━━━━━━━━━━━━━━━━━━━━━━━━━━━━━━━━━━━━\u001b[0m \u001b[32m24.6/24.6 MB\u001b[0m \u001b[31m83.5 MB/s\u001b[0m eta \u001b[36m0:00:00\u001b[0m\n",
            "\u001b[2K   \u001b[90m━━━━━━━━━━━━━━━━━━━━━━━━━━━━━━━━━━━━━━━━\u001b[0m \u001b[32m883.7/883.7 kB\u001b[0m \u001b[31m62.5 MB/s\u001b[0m eta \u001b[36m0:00:00\u001b[0m\n",
            "\u001b[2K   \u001b[90m━━━━━━━━━━━━━━━━━━━━━━━━━━━━━━━━━━━━━━━━\u001b[0m \u001b[32m664.8/664.8 MB\u001b[0m \u001b[31m2.6 MB/s\u001b[0m eta \u001b[36m0:00:00\u001b[0m\n",
            "\u001b[2K   \u001b[90m━━━━━━━━━━━━━━━━━━━━━━━━━━━━━━━━━━━━━━━━\u001b[0m \u001b[32m211.5/211.5 MB\u001b[0m \u001b[31m5.4 MB/s\u001b[0m eta \u001b[36m0:00:00\u001b[0m\n",
            "\u001b[2K   \u001b[90m━━━━━━━━━━━━━━━━━━━━━━━━━━━━━━━━━━━━━━━━\u001b[0m \u001b[32m56.3/56.3 MB\u001b[0m \u001b[31m12.9 MB/s\u001b[0m eta \u001b[36m0:00:00\u001b[0m\n",
            "\u001b[2K   \u001b[90m━━━━━━━━━━━━━━━━━━━━━━━━━━━━━━━━━━━━━━━━\u001b[0m \u001b[32m127.9/127.9 MB\u001b[0m \u001b[31m7.4 MB/s\u001b[0m eta \u001b[36m0:00:00\u001b[0m\n",
            "\u001b[2K   \u001b[90m━━━━━━━━━━━━━━━━━━━━━━━━━━━━━━━━━━━━━━━━\u001b[0m \u001b[32m207.5/207.5 MB\u001b[0m \u001b[31m5.9 MB/s\u001b[0m eta \u001b[36m0:00:00\u001b[0m\n",
            "\u001b[2K   \u001b[90m━━━━━━━━━━━━━━━━━━━━━━━━━━━━━━━━━━━━━━━━\u001b[0m \u001b[32m21.1/21.1 MB\u001b[0m \u001b[31m73.2 MB/s\u001b[0m eta \u001b[36m0:00:00\u001b[0m\n",
            "\u001b[?25h  Building wheel for grad-cam (pyproject.toml) ... \u001b[?25l\u001b[?25hdone\n"
          ]
        }
      ],
      "source": [
        "# Cell 1 — Mount Drive & install dependencies\n",
        "from google.colab import drive\n",
        "drive.mount('/content/drive')\n",
        "\n",
        "# Install Grad-CAM & OpenCV\n",
        "!pip install grad-cam opencv-python -q\n",
        "\n",
        "# Core imports\n",
        "import os\n",
        "import torch\n",
        "import torch.nn as nn\n",
        "import torch.optim as optim\n",
        "import torch.nn.functional as F\n",
        "from torch.utils.data import DataLoader\n",
        "from torchvision import models, transforms\n",
        "from torchvision.datasets import ImageFolder\n",
        "import numpy as np\n",
        "from PIL import Image\n",
        "from tqdm import tqdm                           # for verbose training\n",
        "\n",
        "# Grad-CAM imports\n",
        "from pytorch_grad_cam import GradCAM\n",
        "from pytorch_grad_cam.utils.image import show_cam_on_image\n"
      ]
    },
    {
      "cell_type": "code",
      "source": [
        "# Cell 2 — Data paths, transforms, loaders\n",
        "DATA_DIR  = '/content/drive/MyDrive/summmer dataset'\n",
        "TRAIN_DIR = os.path.join(DATA_DIR, 'Training')\n",
        "TEST_DIR  = os.path.join(DATA_DIR, 'Testing')\n",
        "\n",
        "# ImageNet normalization\n",
        "mean, std = [0.485,0.456,0.406], [0.229,0.224,0.225]\n",
        "data_transforms = {\n",
        "    'train': transforms.Compose([\n",
        "        transforms.Resize((224,224)),\n",
        "        transforms.RandomHorizontalFlip(),\n",
        "        transforms.ToTensor(),\n",
        "        transforms.Normalize(mean,std)\n",
        "    ]),\n",
        "    'test': transforms.Compose([\n",
        "        transforms.Resize((224,224)),\n",
        "        transforms.ToTensor(),\n",
        "        transforms.Normalize(mean,std)\n",
        "    ]),\n",
        "}\n",
        "\n",
        "# Datasets & loaders\n",
        "train_ds     = ImageFolder(TRAIN_DIR, transform=data_transforms['train'])\n",
        "test_ds      = ImageFolder(TEST_DIR,  transform=data_transforms['test'])\n",
        "train_loader = DataLoader(train_ds, batch_size=16, shuffle=True,  num_workers=2)\n",
        "test_loader  = DataLoader(test_ds,  batch_size=16, shuffle=False, num_workers=2)\n",
        "\n",
        "device  = torch.device('cuda' if torch.cuda.is_available() else 'cpu')\n",
        "classes = train_ds.classes  # ['glioma','meningioma','notumor','pituitary']\n"
      ],
      "metadata": {
        "id": "HCp-7pgInotc"
      },
      "execution_count": 2,
      "outputs": []
    },
    {
      "cell_type": "code",
      "source": [
        "# Cell 3 — Model definitions\n",
        "\n",
        "# 3.1 VGG16 + Hypercolumn\n",
        "class VGG16Hypercolumn(nn.Module):\n",
        "    def __init__(self, num_classes=4, layer_idxs=[2,7,14,21,28]):\n",
        "        super().__init__()\n",
        "        backbone = models.vgg16(pretrained=True)\n",
        "        self.features   = backbone.features\n",
        "        self.layer_idxs = layer_idxs\n",
        "        for p in self.features.parameters(): p.requires_grad = False\n",
        "\n",
        "        total_ch = sum(self.features[i].out_channels for i in layer_idxs)\n",
        "        self.classifier = nn.Sequential(\n",
        "            nn.Linear(total_ch, 256),\n",
        "            nn.ReLU(inplace=True),\n",
        "            nn.Dropout(0.5),\n",
        "            nn.Linear(256, num_classes)\n",
        "        )\n",
        "\n",
        "    def forward(self, x):\n",
        "        bs, _, H, W = x.shape\n",
        "        feats, out = [], x\n",
        "        for idx, layer in enumerate(self.features):\n",
        "            out = layer(out)\n",
        "            if idx in self.layer_idxs:\n",
        "                up = F.interpolate(out, size=(H,W),\n",
        "                                   mode='bilinear', align_corners=False)\n",
        "                feats.append(up)\n",
        "        hypercol = torch.cat(feats, dim=1)  # [bs, total_ch, H, W]\n",
        "        pooled   = F.adaptive_avg_pool2d(hypercol, (1,1)).view(bs, -1)\n",
        "        return self.classifier(pooled)\n",
        "\n",
        "# 3.2 Baseline VGG16\n",
        "class BaselineVGG16(nn.Module):\n",
        "    def __init__(self, num_classes=4):\n",
        "        super().__init__()\n",
        "        backbone = models.vgg16(pretrained=True)\n",
        "        self.features = backbone.features\n",
        "        for p in self.features.parameters(): p.requires_grad = False\n",
        "\n",
        "        self.classifier = nn.Sequential(\n",
        "            nn.Flatten(),\n",
        "            nn.Linear(25088, 4096), nn.ReLU(True), nn.Dropout(0.5),\n",
        "            nn.Linear(4096, 4096),  nn.ReLU(True), nn.Dropout(0.5),\n",
        "            nn.Linear(4096, num_classes)\n",
        "        )\n",
        "\n",
        "    def forward(self, x):\n",
        "        x = self.features(x)\n",
        "        return self.classifier(x)\n"
      ],
      "metadata": {
        "id": "iHEPjS2YoRdw"
      },
      "execution_count": 3,
      "outputs": []
    },
    {
      "cell_type": "code",
      "source": [
        "# Cell 4 — Training & evaluation utilities (verbose)\n",
        "\n",
        "criterion  = nn.CrossEntropyLoss()\n",
        "model_hc   = VGG16Hypercolumn().to(device)\n",
        "model_base = BaselineVGG16().to(device)\n",
        "opt_hc     = optim.Adam(model_hc.classifier.parameters(),   lr=1e-4)\n",
        "opt_base   = optim.Adam(model_base.classifier.parameters(), lr=1e-4)\n",
        "\n",
        "def train_model(model, optimizer, epochs=10):\n",
        "    for epoch in range(1, epochs+1):\n",
        "        model.train()\n",
        "        running_loss = correct = total = 0\n",
        "        pbar = tqdm(train_loader, desc=f\"Epoch {epoch}/{epochs}\", leave=False)\n",
        "        for imgs, labels in pbar:\n",
        "            imgs, labels = imgs.to(device), labels.to(device)\n",
        "            optimizer.zero_grad()\n",
        "            outputs = model(imgs)\n",
        "            loss    = criterion(outputs, labels)\n",
        "            loss.backward()\n",
        "            optimizer.step()\n",
        "\n",
        "            running_loss += loss.item() * imgs.size(0)\n",
        "            preds        = outputs.argmax(dim=1)\n",
        "            correct     += (preds == labels).sum().item()\n",
        "            total       += imgs.size(0)\n",
        "\n",
        "            avg_loss = running_loss / total\n",
        "            avg_acc  = correct / total\n",
        "            pbar.set_postfix(loss=f\"{avg_loss:.4f}\", acc=f\"{avg_acc:.4f}\")\n",
        "\n",
        "        print(f\"→ Epoch {epoch}/{epochs} — Loss: {running_loss/total:.4f}, Acc: {correct/total:.4f}\")\n",
        "\n",
        "def evaluate_model(model):\n",
        "    model.eval()\n",
        "    correct = total = 0\n",
        "    with torch.no_grad():\n",
        "        for imgs, labels in test_loader:\n",
        "            imgs, labels = imgs.to(device), labels.to(device)\n",
        "            outputs      = model(imgs)\n",
        "            preds        = outputs.argmax(dim=1)\n",
        "            correct     += (preds == labels).sum().item()\n",
        "            total       += imgs.size(0)\n",
        "    acc = correct / total\n",
        "    print(f\"❏ Test Accuracy: {acc:.4f}\")\n",
        "    return acc\n"
      ],
      "metadata": {
        "colab": {
          "base_uri": "https://localhost:8080/"
        },
        "id": "CyZcf-p3oWRC",
        "outputId": "b56dd970-83e5-4174-a8c5-496c81d1439e"
      },
      "execution_count": 4,
      "outputs": [
        {
          "output_type": "stream",
          "name": "stderr",
          "text": [
            "/usr/local/lib/python3.11/dist-packages/torchvision/models/_utils.py:208: UserWarning: The parameter 'pretrained' is deprecated since 0.13 and may be removed in the future, please use 'weights' instead.\n",
            "  warnings.warn(\n",
            "/usr/local/lib/python3.11/dist-packages/torchvision/models/_utils.py:223: UserWarning: Arguments other than a weight enum or `None` for 'weights' are deprecated since 0.13 and may be removed in the future. The current behavior is equivalent to passing `weights=VGG16_Weights.IMAGENET1K_V1`. You can also use `weights=VGG16_Weights.DEFAULT` to get the most up-to-date weights.\n",
            "  warnings.warn(msg)\n",
            "Downloading: \"https://download.pytorch.org/models/vgg16-397923af.pth\" to /root/.cache/torch/hub/checkpoints/vgg16-397923af.pth\n",
            "100%|██████████| 528M/528M [00:05<00:00, 104MB/s] \n",
            "/usr/local/lib/python3.11/dist-packages/torchvision/models/_utils.py:208: UserWarning: The parameter 'pretrained' is deprecated since 0.13 and may be removed in the future, please use 'weights' instead.\n",
            "  warnings.warn(\n",
            "/usr/local/lib/python3.11/dist-packages/torchvision/models/_utils.py:223: UserWarning: Arguments other than a weight enum or `None` for 'weights' are deprecated since 0.13 and may be removed in the future. The current behavior is equivalent to passing `weights=VGG16_Weights.IMAGENET1K_V1`. You can also use `weights=VGG16_Weights.DEFAULT` to get the most up-to-date weights.\n",
            "  warnings.warn(msg)\n"
          ]
        }
      ]
    },
    {
      "cell_type": "code",
      "source": [
        "# Cell 5 — Run experiments\n",
        "\n",
        "# Hypercolumn\n",
        "print('▶️ Training Hypercolumn Model')\n",
        "train_model(model_hc, opt_hc, epochs=10)\n",
        "print('▶️ Evaluating Hypercolumn Model')\n",
        "acc_hc = evaluate_model(model_hc)\n",
        "\n",
        "# Baseline\n",
        "print('\\n▶️ Training Baseline VGG16 Model')\n",
        "train_model(model_base, opt_base, epochs=10)\n",
        "print('▶️ Evaluating Baseline VGG16 Model')\n",
        "acc_base = evaluate_model(model_base)\n"
      ],
      "metadata": {
        "colab": {
          "base_uri": "https://localhost:8080/"
        },
        "id": "XxuO14CXoYLW",
        "outputId": "adc91e27-8ed6-41f3-f799-477da0216436"
      },
      "execution_count": 5,
      "outputs": [
        {
          "output_type": "stream",
          "name": "stdout",
          "text": [
            "▶️ Training Hypercolumn Model\n"
          ]
        },
        {
          "output_type": "stream",
          "name": "stderr",
          "text": []
        },
        {
          "output_type": "stream",
          "name": "stdout",
          "text": [
            "→ Epoch 1/10 — Loss: 1.0467, Acc: 0.5751\n"
          ]
        },
        {
          "output_type": "stream",
          "name": "stderr",
          "text": []
        },
        {
          "output_type": "stream",
          "name": "stdout",
          "text": [
            "→ Epoch 2/10 — Loss: 0.7367, Acc: 0.7131\n"
          ]
        },
        {
          "output_type": "stream",
          "name": "stderr",
          "text": []
        },
        {
          "output_type": "stream",
          "name": "stdout",
          "text": [
            "→ Epoch 3/10 — Loss: 0.6506, Acc: 0.7560\n"
          ]
        },
        {
          "output_type": "stream",
          "name": "stderr",
          "text": []
        },
        {
          "output_type": "stream",
          "name": "stdout",
          "text": [
            "→ Epoch 4/10 — Loss: 0.5830, Acc: 0.7819\n"
          ]
        },
        {
          "output_type": "stream",
          "name": "stderr",
          "text": []
        },
        {
          "output_type": "stream",
          "name": "stdout",
          "text": [
            "→ Epoch 5/10 — Loss: 0.5401, Acc: 0.7896\n"
          ]
        },
        {
          "output_type": "stream",
          "name": "stderr",
          "text": []
        },
        {
          "output_type": "stream",
          "name": "stdout",
          "text": [
            "→ Epoch 6/10 — Loss: 0.4985, Acc: 0.8160\n"
          ]
        },
        {
          "output_type": "stream",
          "name": "stderr",
          "text": []
        },
        {
          "output_type": "stream",
          "name": "stdout",
          "text": [
            "→ Epoch 7/10 — Loss: 0.4782, Acc: 0.8274\n"
          ]
        },
        {
          "output_type": "stream",
          "name": "stderr",
          "text": []
        },
        {
          "output_type": "stream",
          "name": "stdout",
          "text": [
            "→ Epoch 8/10 — Loss: 0.4615, Acc: 0.8354\n"
          ]
        },
        {
          "output_type": "stream",
          "name": "stderr",
          "text": []
        },
        {
          "output_type": "stream",
          "name": "stdout",
          "text": [
            "→ Epoch 9/10 — Loss: 0.4435, Acc: 0.8407\n"
          ]
        },
        {
          "output_type": "stream",
          "name": "stderr",
          "text": [
            "                                                                                       "
          ]
        },
        {
          "output_type": "stream",
          "name": "stdout",
          "text": [
            "→ Epoch 10/10 — Loss: 0.4359, Acc: 0.8456\n",
            "▶️ Evaluating Hypercolumn Model\n"
          ]
        },
        {
          "output_type": "stream",
          "name": "stderr",
          "text": [
            "\r"
          ]
        },
        {
          "output_type": "stream",
          "name": "stdout",
          "text": [
            "❏ Test Accuracy: 0.8230\n",
            "\n",
            "▶️ Training Baseline VGG16 Model\n"
          ]
        },
        {
          "output_type": "stream",
          "name": "stderr",
          "text": []
        },
        {
          "output_type": "stream",
          "name": "stdout",
          "text": [
            "→ Epoch 1/10 — Loss: 0.4039, Acc: 0.8517\n"
          ]
        },
        {
          "output_type": "stream",
          "name": "stderr",
          "text": []
        },
        {
          "output_type": "stream",
          "name": "stdout",
          "text": [
            "→ Epoch 2/10 — Loss: 0.1781, Acc: 0.9368\n"
          ]
        },
        {
          "output_type": "stream",
          "name": "stderr",
          "text": []
        },
        {
          "output_type": "stream",
          "name": "stdout",
          "text": [
            "→ Epoch 3/10 — Loss: 0.1200, Acc: 0.9589\n"
          ]
        },
        {
          "output_type": "stream",
          "name": "stderr",
          "text": []
        },
        {
          "output_type": "stream",
          "name": "stdout",
          "text": [
            "→ Epoch 4/10 — Loss: 0.1012, Acc: 0.9660\n"
          ]
        },
        {
          "output_type": "stream",
          "name": "stderr",
          "text": []
        },
        {
          "output_type": "stream",
          "name": "stdout",
          "text": [
            "→ Epoch 5/10 — Loss: 0.0769, Acc: 0.9758\n"
          ]
        },
        {
          "output_type": "stream",
          "name": "stderr",
          "text": []
        },
        {
          "output_type": "stream",
          "name": "stdout",
          "text": [
            "→ Epoch 6/10 — Loss: 0.0803, Acc: 0.9743\n"
          ]
        },
        {
          "output_type": "stream",
          "name": "stderr",
          "text": []
        },
        {
          "output_type": "stream",
          "name": "stdout",
          "text": [
            "→ Epoch 7/10 — Loss: 0.0602, Acc: 0.9807\n"
          ]
        },
        {
          "output_type": "stream",
          "name": "stderr",
          "text": []
        },
        {
          "output_type": "stream",
          "name": "stdout",
          "text": [
            "→ Epoch 8/10 — Loss: 0.0614, Acc: 0.9793\n"
          ]
        },
        {
          "output_type": "stream",
          "name": "stderr",
          "text": []
        },
        {
          "output_type": "stream",
          "name": "stdout",
          "text": [
            "→ Epoch 9/10 — Loss: 0.0550, Acc: 0.9809\n"
          ]
        },
        {
          "output_type": "stream",
          "name": "stderr",
          "text": [
            "                                                                                       "
          ]
        },
        {
          "output_type": "stream",
          "name": "stdout",
          "text": [
            "→ Epoch 10/10 — Loss: 0.0340, Acc: 0.9890\n",
            "▶️ Evaluating Baseline VGG16 Model\n"
          ]
        },
        {
          "output_type": "stream",
          "name": "stderr",
          "text": [
            "\r"
          ]
        },
        {
          "output_type": "stream",
          "name": "stdout",
          "text": [
            "❏ Test Accuracy: 0.9603\n"
          ]
        }
      ]
    },
    {
      "cell_type": "code",
      "source": [
        "from pytorch_grad_cam import GradCAM\n",
        "from pytorch_grad_cam.utils.model_targets import ClassifierOutputTarget\n",
        "\n",
        "def explain_image(img_path, model, target_layer):\n",
        "    model.eval()\n",
        "\n",
        "    # 1. load & preprocess\n",
        "    img = Image.open(img_path).convert('RGB')\n",
        "    inp = data_transforms['test'](img).unsqueeze(0).to(device)\n",
        "    inp.requires_grad_()   # ensure gradients flow back\n",
        "\n",
        "    # 2. forward → get predicted class\n",
        "    logits = model(inp)\n",
        "    probs  = F.softmax(logits, dim=1)[0]\n",
        "    idx    = probs.argmax().item()\n",
        "    print(f'Predicted: {classes[idx]}, Confidence: {probs[idx]:.4f}')\n",
        "\n",
        "    # 3. Grad-CAM (no use_cuda / device kwargs!)\n",
        "    cam = GradCAM(model=model, target_layers=[target_layer])\n",
        "\n",
        "    # tell it which class to explain\n",
        "    targets = [ClassifierOutputTarget(idx)]\n",
        "    gcam = cam(input_tensor=inp, targets=targets)[0]  # shape: (H, W)\n",
        "\n",
        "    # 4. overlay & plot\n",
        "    img_np  = np.array(img.resize((224,224))) / 255.0\n",
        "    cam_img = show_cam_on_image(img_np, gcam, use_rgb=True)\n",
        "\n",
        "    import matplotlib.pyplot as plt\n",
        "    plt.figure(figsize=(8,4))\n",
        "    plt.subplot(1,2,1)\n",
        "    plt.imshow(img);     plt.axis('off'); plt.title('Input')\n",
        "    plt.subplot(1,2,2)\n",
        "    plt.imshow(cam_img); plt.axis('off'); plt.title('Grad-CAM')\n",
        "    plt.show()\n",
        "\n"
      ],
      "metadata": {
        "id": "2nmvdBAmocyg"
      },
      "execution_count": 13,
      "outputs": []
    },
    {
      "cell_type": "code",
      "source": [
        "# Hook the *conv* layer, not the ReLU:\n",
        "sample_img   = os.path.join(TEST_DIR, 'glioma',\n",
        "                 os.listdir(os.path.join(TEST_DIR,'glioma'))[11])\n",
        "target_layer = model_base.features[27]  # idx 27 is Conv2d, idx 28 is ReLU\n",
        "explain_image(sample_img, model_base, target_layer)"
      ],
      "metadata": {
        "colab": {
          "base_uri": "https://localhost:8080/",
          "height": 359
        },
        "id": "tQvHGpzTxLpq",
        "outputId": "eb5f9b03-c65c-47ff-fed2-c699c69d58bb"
      },
      "execution_count": 33,
      "outputs": [
        {
          "output_type": "stream",
          "name": "stdout",
          "text": [
            "Predicted: glioma, Confidence: 1.0000\n"
          ]
        },
        {
          "output_type": "display_data",
          "data": {
            "text/plain": [
              "<Figure size 800x400 with 2 Axes>"
            ],
            "image/png": "[encoded data removed]"
          },
          "metadata": {}
        }
      ]
    },
    {
      "cell_type": "code",
      "source": [],
      "metadata": {
        "id": "9Dl9bap8y21l"
      },
      "execution_count": null,
      "outputs": []
    }
  ]
}